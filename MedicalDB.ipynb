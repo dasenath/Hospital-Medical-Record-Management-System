{
 "cells": [
  {
   "cell_type": "markdown",
   "id": "9cb3e599",
   "metadata": {},
   "source": [
    "## Program to build a hospital database"
   ]
  },
  {
   "cell_type": "markdown",
   "id": "2dc76ab6",
   "metadata": {},
   "source": [
    "#### Intent of the program: \n",
    "The program aims to create tables and establish relations between the tables based on the given hospital ER model. Also, insert few records/ tuples into the created tables.\n",
    "\n",
    "#### The ER model:\n",
    "The details of the ER model can be obtained from the associated report."
   ]
  },
  {
   "cell_type": "markdown",
   "id": "66f2e960",
   "metadata": {},
   "source": [
    "### Setting up the environment"
   ]
  },
  {
   "cell_type": "markdown",
   "id": "0df672bb",
   "metadata": {},
   "source": [
    "##### Importing libraries"
   ]
  },
  {
   "cell_type": "code",
   "execution_count": 1,
   "id": "b4c3b1af",
   "metadata": {},
   "outputs": [],
   "source": [
    "# Importing the required libraries\n",
    "import mysql.connector\n",
    "from mysql.connector import Error"
   ]
  },
  {
   "cell_type": "markdown",
   "id": "dbf0aeee",
   "metadata": {},
   "source": [
    "##### Declaring global variables"
   ]
  },
  {
   "cell_type": "code",
   "execution_count": 2,
   "id": "7a4dd067",
   "metadata": {},
   "outputs": [],
   "source": [
    "# Storing the details required to connect to the server and database in variables\n",
    "# Please update the variables accordingly\n",
    "user=''\n",
    "password=''\n",
    "host='myeusql.dur.ac.uk'\n",
    "database='Csffh36_dHospital'"
   ]
  },
  {
   "cell_type": "markdown",
   "id": "6c94500b",
   "metadata": {},
   "source": [
    "##### Defining functions to be used in the code"
   ]
  },
  {
   "cell_type": "code",
   "execution_count": 3,
   "id": "90865a6d",
   "metadata": {},
   "outputs": [],
   "source": [
    "# Defining all the required functions\n",
    "\n",
    "def createDB(user, password, host, database):\n",
    "    ##########################################################################################################\n",
    "    # Function to establish a connection with the server and create a database.\n",
    "    # The arguments are hardcoded to a specific user, host and database and these need to be manually updated.\n",
    "    # The fucntion first drops the database if it exists and then creates the database from scratch.\n",
    "    ##########################################################################################################\n",
    "    #Connecting to the server\n",
    "    connection = mysql.connector.connect(user=user, password=password, host=host)\n",
    "    #Creating a cursor to pass the commands to the DB\n",
    "    cursor = connection.cursor()\n",
    "    # Drop DB if exists\n",
    "    drop_DB = \"DROP DATABASE IF EXISTS {};\".format(database)\n",
    "    cursor.execute(drop_DB)\n",
    "    # Creating the DB\n",
    "    create_DB = \"CREATE DATABASE {};\".format(database)\n",
    "    cursor.execute(create_DB)\n",
    "    print(\"The database {} has been successfully created.\".format(database))\n",
    "    cursor.close()\n",
    "\n",
    "def connectToDB(user, password, host, database):\n",
    "    ##########################################################################################################\n",
    "    # Function to establish a connection with the database where the SQL operations need to be performed.\n",
    "    # The arguments are hardcoded to a specific user, host and database and these need to be manually updated.\n",
    "    # The fucntion returns the connection and the cursor details.\n",
    "    ##########################################################################################################\n",
    "    #Connecting to the DB\n",
    "    connection = mysql.connector.connect(user=user, password=password, host=host,database=database)\n",
    "    #Creating a cursor to pass the commands to the DB\n",
    "    cursor = connection.cursor()\n",
    "    print(\"Connected to the server and the database {}\".format(database))\n",
    "    return (connection, cursor)\n",
    "\n",
    "def closeConnection(connection, cursor):\n",
    "    ##########################################################################################################\n",
    "    # Function to close the connection.\n",
    "    # The function takes in the connection and cursor as input arguments and uses them to close the connection.\n",
    "    ##########################################################################################################\n",
    "    if(connection.is_connected()):\n",
    "        cursor.close()\n",
    "        print(\"Connection to the server has been closed.\")\n",
    "        \n",
    "def insertValuesIntoPatients(connection, cursor, first_name, middle_name, last_name, date_of_birth, address, contact_number, nhs_no, ssn, \n",
    "                             international, passport, brp):\n",
    "    ##########################################################################################################\n",
    "    # Function to insert data into the Patients table.\n",
    "    # The function takes in the the list of table attributes in the form of arguments.\n",
    "    # For every insertion, the function connects to the database and disconnets to secure the database.\n",
    "    ##########################################################################################################\n",
    "    try:\n",
    "        # Creating the insertion query\n",
    "        insert_query = \"\"\"INSERT INTO patients(patient_id, first_name, middle_name, last_name, date_of_birth, address, contact_number, nhs_no, ssn, international, passport, brp) \n",
    "                        VALUES (NULL, %s, %s, %s, %s, %s, %s, %s, %s, %s, %s, %s)\"\"\"\n",
    "        # Creating the tuple to replace the '%s' in the insertion query\n",
    "        record_to_insert = (first_name, middle_name, last_name, date_of_birth, address, contact_number, nhs_no, ssn, international, \n",
    "                            passport, brp)\n",
    "        # Both the query and the tuple need to be passed to the execute function\n",
    "        cursor.execute(insert_query, record_to_insert)\n",
    "        # Commiting the changes to the database\n",
    "        connection.commit()\n",
    "        print(\"Insert status on Patients table: Successful\")\n",
    "    except mysql.connector.Error as error:\n",
    "        print(\"Insertion failed into Patients table due to {}\".format(error))\n",
    "        closeConnection(connection, cursor)        \n",
    "         \n",
    "def insertValuesIntoDoctors(connection, cursor, first_name, middle_name, last_name, date_of_birth, address, contact_number, \n",
    "                            nhs_no, ssn, employment_status):\n",
    "    ##########################################################################################################\n",
    "    # Function to insert data into the Doctors table.\n",
    "    # The function takes in the the list of table attributes in the form of arguments.\n",
    "    # For every insertion, the function connects to the database and disconnets to secure the database.\n",
    "    ##########################################################################################################\n",
    "    try:\n",
    "        # Creating the insertion query\n",
    "        insert_query = \"\"\"INSERT INTO doctors(employee_id, first_name, middle_name, last_name, date_of_birth, address, contact_number, nhs_no, ssn, employment_status) \n",
    "                        VALUES (NULL, %s, %s, %s, %s, %s, %s, %s, %s, %s)\"\"\"\n",
    "        # Creating the tuple to replace the '%s' in the insertion query\n",
    "        record_to_insert = (first_name, middle_name, last_name, date_of_birth, address, contact_number, \n",
    "                            nhs_no, ssn, employment_status)\n",
    "        # Both the query and the tuple need to be passed to the execute function\n",
    "        cursor.execute(insert_query, record_to_insert)\n",
    "        # Commiting the changes to the database\n",
    "        connection.commit()\n",
    "        print(\"Insert status on Doctors table: Successful\")\n",
    "    except mysql.connector.Error as error:\n",
    "        print(\"Insertion failed into Doctors table due to {}\".format(error))\n",
    "        closeConnection(connection, cursor)\n",
    "        \n",
    "def insertValuesIntoAppointments(connection, cursor, patient_id, employee_id, case_id, appointment_type, start_time, end_time, appointment_status):\n",
    "    ##########################################################################################################\n",
    "    # Function to insert data into the Appointments table.\n",
    "    # The function takes in the the list of table attributes in the form of arguments.\n",
    "    # For every insertion, the function connects to the database and disconnets to secure the database.\n",
    "    ##########################################################################################################\n",
    "    try:\n",
    "        # Creating the insertion query\n",
    "        insert_query = \"\"\"INSERT INTO appointments(appointment_id, patient_id, employee_id, case_id, appointment_type, start_time, end_time, appointment_status) \n",
    "                        VALUES (NULL, %s, %s, %s, %s, %s, %s, %s)\"\"\"\n",
    "        # Creating the tuple to replace the '%s' in the insertion query\n",
    "        record_to_insert = (patient_id, employee_id, case_id, appointment_type, start_time, end_time, appointment_status)\n",
    "        # Both the query and the tuple need to be passed to the execute function\n",
    "        cursor.execute(insert_query, record_to_insert)\n",
    "        # Commiting the changes to the database\n",
    "        connection.commit()\n",
    "        print(\"Insert status on Appointments table: Successful\")\n",
    "    except mysql.connector.Error as error:\n",
    "        print(\"Insertion failed into Appointments table due to {}\".format(error))\n",
    "        closeConnection(connection, cursor)\n",
    "         \n",
    "def insertValuesIntoCases(connection, cursor, patient_id, medical_history, symptoms, diagnosis, treatment):\n",
    "    ##########################################################################################################\n",
    "    # Function to insert data into the Cases table.\n",
    "    # The function takes in the the list of table attributes in the form of arguments.\n",
    "    # For every insertion, the function connects to the database and disconnets to secure the database.\n",
    "    ##########################################################################################################\n",
    "    try:\n",
    "        # Creating the insertion query\n",
    "        insert_query = \"\"\"INSERT INTO cases(case_id, patient_id, medical_history, symptoms, diagnosis, treatment) \n",
    "                        VALUES (NULL, %s, %s, %s, %s, %s)\"\"\"\n",
    "        # Creating the tuple to replace the '%s' in the insertion query\n",
    "        record_to_insert = (patient_id, medical_history, symptoms, diagnosis, treatment)\n",
    "        # Both the query and the tuple need to be passed to the execute function\n",
    "        cursor.execute(insert_query, record_to_insert)\n",
    "        # Commiting the changes to the database\n",
    "        connection.commit()\n",
    "        print(\"Insert status on Cases table: Successful\")\n",
    "    except mysql.connector.Error as error:\n",
    "        print(\"Insertion failed into Cases table due to {}\".format(error))\n",
    "        closeConnection(connection, cursor)\n",
    "        \n",
    "def insertValuesIntoPrescriptions(connection, cursor, prescription_id, appointment_id, case_id, drug_id, quantity):\n",
    "    ##########################################################################################################\n",
    "    # Function to insert data into the Prescriptions table.\n",
    "    # The function takes in the the list of table attributes in the form of arguments.\n",
    "    # For every insertion, the function connects to the database and disconnets to secure the database.\n",
    "    ##########################################################################################################\n",
    "    try:\n",
    "        # Creating the insertion query\n",
    "        insert_query = \"\"\"INSERT INTO prescriptions(prescription_id, appointment_id, case_id, drug_id, quantity) \n",
    "                        VALUES (%s, %s, %s, %s, %s)\"\"\"\n",
    "        # Creating the tuple to replace the '%s' in the insertion query\n",
    "        record_to_insert = (prescription_id, appointment_id, case_id, drug_id, quantity)\n",
    "        # Both the query and the tuple need to be passed to the execute function\n",
    "        cursor.execute(insert_query, record_to_insert)\n",
    "        # Commiting the changes to the database\n",
    "        connection.commit()\n",
    "        print(\"Insert status on Prescriptions table: Successful\")\n",
    "    except mysql.connector.Error as error:\n",
    "        print(\"Insertion failed into Prescriptions table due to {}\".format(error))\n",
    "        closeConnection(connection, cursor)\n",
    "        \n",
    "def insertValuesIntoDrugs(connection, cursor, drug_name, drug_producer, drug_provider, in_stock, units):\n",
    "    ##########################################################################################################\n",
    "    # Function to insert data into the Drugs table.\n",
    "    # The function takes in the the list of table attributes in the form of arguments.\n",
    "    # For every insertion, the function connects to the database and disconnets to secure the database.\n",
    "    ##########################################################################################################\n",
    "    try:\n",
    "        # Creating the insertion query\n",
    "        insert_query = \"\"\"INSERT INTO drugs(drug_id, drug_name, drug_producer, drug_provider, in_stock, units) \n",
    "                        VALUES (NULL, %s, %s, %s, %s, %s)\"\"\"\n",
    "        # Creating the tuple to replace the '%s' in the insertion query\n",
    "        record_to_insert = (drug_name, drug_producer, drug_provider, in_stock, units)\n",
    "        # Both the query and the tuple need to be passed to the execute function\n",
    "        cursor.execute(insert_query, record_to_insert)\n",
    "        # Commiting the changes to the database\n",
    "        connection.commit()\n",
    "        print(\"Insert status on Drugs table: Successful\")\n",
    "    except mysql.connector.Error as error:\n",
    "        print(\"Insertion failed into Drugs table due to {}\".format(error))\n",
    "        closeConnection(connection, cursor)\n",
    "         \n",
    "def updateValuesInDrugs(connection, cursor, drug_id, in_stock, units):\n",
    "    ##########################################################################################################\n",
    "    # Function to update data in the Drugs table.\n",
    "    # The function takes in the the list of table attributes in the form of arguments.\n",
    "    # For every update statement, the function connects to the database and disconnets to secure the database.\n",
    "    ##########################################################################################################\n",
    "    try:\n",
    "        # Creating the update query\n",
    "        update_query = \"UPDATE drugs SET in_stock = {}, units = {} WHERE drug_id = {}\".format(in_stock,units,drug_id)\n",
    "        cursor.execute(update_query)\n",
    "        connection.commit()\n",
    "        print(\"Record update status on Drugs table: Successful\")\n",
    "    except mysql.connector.Error as error:\n",
    "        print(\"Record could not be updated due to {}\".format(error))\n",
    "        closeConnection(connection, cursor)\n"
   ]
  },
  {
   "cell_type": "markdown",
   "id": "a14a704b",
   "metadata": {},
   "source": [
    "### Creating the tables and relationships using primary and foreign keys"
   ]
  },
  {
   "cell_type": "markdown",
   "id": "7a63258d",
   "metadata": {},
   "source": [
    "##### Creating the database"
   ]
  },
  {
   "cell_type": "code",
   "execution_count": 4,
   "id": "d8b8884b",
   "metadata": {},
   "outputs": [
    {
     "name": "stdout",
     "output_type": "stream",
     "text": [
      "The database Csffh36_dHospital has been successfully created.\n"
     ]
    }
   ],
   "source": [
    "# Create the DB\n",
    "createDB(user, password, host, database)"
   ]
  },
  {
   "cell_type": "markdown",
   "id": "83251aae",
   "metadata": {},
   "source": [
    "##### Setting up global connection"
   ]
  },
  {
   "cell_type": "code",
   "execution_count": 5,
   "id": "663e3e20",
   "metadata": {},
   "outputs": [
    {
     "name": "stdout",
     "output_type": "stream",
     "text": [
      "Connected to the server and the database Csffh36_dHospital\n"
     ]
    }
   ],
   "source": [
    "# Global connection\n",
    "(connection, cursor) = connectToDB(user, password, host, database)"
   ]
  },
  {
   "cell_type": "markdown",
   "id": "e5c931ca",
   "metadata": {},
   "source": [
    "##### Creating tables\n",
    "\n",
    "The following tables have been created based on the ER model provided in the report:\n",
    "1. doctors\n",
    "2. patients\n",
    "3. cases\n",
    "4. appointments\n",
    "5. prescriptions\n",
    "6. drugs\n",
    "\n",
    "Key notes:\n",
    "- The cardinality ratio for appointments and prescriptions is 1:1; however, the prescriptions table stores drugs for the same prescription as separate rows, forcing the need for multiple entries of the same appointment ID. Owing to this, the UNIQUE constraint has not been imposed on the appointment_id foreign key.\n",
    "- The total participation cannot be implemented at the table level."
   ]
  },
  {
   "cell_type": "code",
   "execution_count": 6,
   "id": "42d2ef86",
   "metadata": {},
   "outputs": [
    {
     "name": "stdout",
     "output_type": "stream",
     "text": [
      "Successfully created the defined tables and their relationships.\n"
     ]
    }
   ],
   "source": [
    "#Creating the tables and their relations as per the ER diagram\n",
    "try:\n",
    "    # Creating the create table query\n",
    "    create_table_query =  [\"\"\"CREATE TABLE patients (\n",
    "                            patient_id INTEGER AUTO_INCREMENT PRIMARY KEY,\n",
    "                            first_name VARCHAR(20),\n",
    "                            middle_name VARCHAR (20),\n",
    "                            last_name VARCHAR (20),\n",
    "                            date_of_birth DATE,\n",
    "                            address VARCHAR (100),\n",
    "                            contact_number VARCHAR (50),\n",
    "                            nhs_no NUMERIC(10,0),\n",
    "                            ssn VARCHAR (10),\n",
    "                            international BOOLEAN,\n",
    "                            passport VARCHAR(15),\n",
    "                            brp VARCHAR(9),\n",
    "                            CONSTRAINT chk_patients CHECK (international IN (0, 1))\n",
    "                        );\"\"\",\n",
    "                       \"\"\"CREATE TABLE doctors (\n",
    "                            employee_id INTEGER AUTO_INCREMENT PRIMARY KEY,\n",
    "                            first_name VARCHAR(20),\n",
    "                            middle_name VARCHAR (20),\n",
    "                            last_name VARCHAR (20),\n",
    "                            date_of_birth DATE,\n",
    "                            address VARCHAR (100),\n",
    "                            contact_number VARCHAR (50),\n",
    "                            nhs_no NUMERIC(10,0),\n",
    "                            ssn VARCHAR (10),\n",
    "                            employment_status VARCHAR(10),\n",
    "                            CONSTRAINT chk_doctors CHECK (employment_status IN ('Active', 'Inactive'))\n",
    "                        );\"\"\",\n",
    "                     \"\"\"CREATE TABLE cases (\n",
    "                            case_id INTEGER AUTO_INCREMENT PRIMARY KEY,\n",
    "                            patient_id INTEGER NOT NULL REFERENCES patients,\n",
    "                            medical_history VARCHAR(200),\n",
    "                            symptoms VARCHAR(200),\n",
    "                            diagnosis VARCHAR(400),\n",
    "                            treatment VARCHAR(400)\n",
    "                        );\"\"\",\n",
    "                     \"\"\"CREATE TABLE appointments (\n",
    "                            appointment_id INTEGER AUTO_INCREMENT PRIMARY KEY,\n",
    "                            employee_id INTEGER NOT NULL REFERENCES doctors,\n",
    "                            patient_id INTEGER NOT NULL REFERENCES patients,\n",
    "                            case_id INTEGER NOT NULL REFERENCES cases,\n",
    "                            appointment_type VARCHAR (50),\n",
    "                            start_time DATETIME,\n",
    "                            end_time DATETIME,\n",
    "                            appointment_status VARCHAR (50)\n",
    "                        );\"\"\",\n",
    "                    \"\"\"CREATE TABLE drugs (\n",
    "                            drug_id INTEGER AUTO_INCREMENT PRIMARY KEY,\n",
    "                            drug_name VARCHAR(30),\n",
    "                            drug_producer VARCHAR(50),\n",
    "                            drug_provider VARCHAR(50),\n",
    "                            in_stock BOOLEAN,\n",
    "                            units INTEGER,\n",
    "                            CONSTRAINT chk_drugs CHECK (in_stock IN (0, 1))\n",
    "                        );\"\"\",\n",
    "                      \"\"\"CREATE TABLE prescriptions (\n",
    "                            prescription_id INTEGER,\n",
    "                            appointment_id INTEGER NOT NULL REFERENCES appointments,\n",
    "                            case_id INTEGER NOT NULL REFERENCES cases,\n",
    "                            drug_id INTEGER NOT NULL REFERENCES drugs,\n",
    "                            quantity INTEGER\n",
    "                        );\"\"\"]\n",
    "\n",
    "    # To make sure there's no duplication of the table, we will execute a query to drop the table if it exists\n",
    "    # The table order in the delete list has been organizaed to prevent foreign key constraint violation\n",
    "    table_delete_list = [\"prescriptions\", \"appointments\", \"doctors\", \"drugs\", \"cases\", \"patients\"]\n",
    "    # Iterating over for loop to delete all the tables\n",
    "    for table_name in table_delete_list:\n",
    "        drop_table_query = \"DROP TABLE IF EXISTS \" + table_name\n",
    "        cursor.execute(drop_table_query)\n",
    "    # Iterating over for loop to create all the tables\n",
    "    for create_query in create_table_query:\n",
    "        cursor.execute(create_query)\n",
    "    print(\"Successfully created the defined tables and their relationships.\")\n",
    "except mysql.connector.Error as error:\n",
    "    print(\"Creation of tables failed due to {}\".format(error))\n",
    "    closeConnection(connection, cursor)"
   ]
  },
  {
   "cell_type": "markdown",
   "id": "6c562148",
   "metadata": {},
   "source": [
    "### Inserting data into the created tables"
   ]
  },
  {
   "cell_type": "markdown",
   "id": "e5f551ec",
   "metadata": {},
   "source": [
    "#### Inserting records into the other tables \n",
    "##### List of tables:\n",
    "1. doctors\n",
    "2. patients\n",
    "3. cases\n",
    "4. appointments\n",
    "5. prescriptions\n",
    "6. drugs\n",
    "\n",
    "#### Updating data in few tables to maintain consistency in the DB state\n",
    "##### Table details:\n",
    "Drugs table's \"units\" attribute after every prescription"
   ]
  },
  {
   "cell_type": "code",
   "execution_count": 7,
   "id": "878e7510",
   "metadata": {},
   "outputs": [
    {
     "name": "stdout",
     "output_type": "stream",
     "text": [
      "Insert status on Doctors table: Successful\n",
      "Insert status on Doctors table: Successful\n",
      "Insert status on Doctors table: Successful\n",
      "Insert status on Drugs table: Successful\n",
      "Insert status on Drugs table: Successful\n",
      "Insert status on Drugs table: Successful\n",
      "Insert status on Drugs table: Successful\n",
      "Insert status on Patients table: Successful\n",
      "Insert status on Cases table: Successful\n",
      "Insert status on Appointments table: Successful\n",
      "Insert status on Prescriptions table: Successful\n",
      "Insert status on Prescriptions table: Successful\n",
      "Record update status on Drugs table: Successful\n",
      "Record update status on Drugs table: Successful\n",
      "Insert status on Patients table: Successful\n",
      "Insert status on Cases table: Successful\n",
      "Insert status on Appointments table: Successful\n",
      "Insert status on Appointments table: Successful\n",
      "Insert status on Cases table: Successful\n",
      "Insert status on Appointments table: Successful\n",
      "Insert status on Prescriptions table: Successful\n",
      "Insert status on Prescriptions table: Successful\n",
      "Insert status on Prescriptions table: Successful\n",
      "Record update status on Drugs table: Successful\n",
      "Record update status on Drugs table: Successful\n",
      "Record update status on Drugs table: Successful\n"
     ]
    }
   ],
   "source": [
    "# Inserting doctors\n",
    "insertValuesIntoDoctors(connection, cursor, 'Penial','','Paul', '1985-12-20','Cambridge, UK','+449872387123; +44777387123',987167273,'TH76221','Active')\n",
    "insertValuesIntoDoctors(connection, cursor, 'Deborah','Ruth','C',' 1990-12-20','London, UK','+449872387124',987167278,'TH75621','Active')\n",
    "insertValuesIntoDoctors(connection, cursor, 'Daniel', '', 'Jonah', '1998-05-07', 'Market place, DH14T7', '+917827361', 9273123, 'AD76137233', 'Active')\n",
    "\n",
    "# Inserting drugs\n",
    "insertValuesIntoDrugs(connection, cursor, 'Paracetamol API', 'Farmson Pharmaceutical-456 MT', 'Medtech', '1', 900)\n",
    "insertValuesIntoDrugs(connection, cursor, 'Cheston Cold', 'Cipla Ltd.', 'Shark Medical Services', '1', 700)\n",
    "insertValuesIntoDrugs(connection, cursor, 'Telmisartal 40', 'Glenmark', 'Green Earth Medical', '1', 1000)\n",
    "insertValuesIntoDrugs(connection, cursor, 'Ciprofloxacin-TZ', 'Cipla Ltd.', 'Green Earth Medical; CCC Medical Co.', '1', 1000)\n",
    "\n",
    "# Scenario 1\n",
    "# Patient 1 insertion with entires in all tables\n",
    "insertValuesIntoPatients(connection, cursor, 'James', '', 'Heart', '1969-08-20', 'Sheraton House, Sheraon Park, DH14FL', '+448728379872; +447838871294', 123456789, 'AD76137283', '1', 'ZA51810', 'GH6293827')\n",
    "insertValuesIntoCases(connection, cursor, 1,'Healthy','Cold, cough, fever', 'Flu', 'Medication, food and rest')\n",
    "insertValuesIntoAppointments(connection, cursor, 1,2,1, 'Completed', '2021-12-27 12:15:00', '2021-12-27 13:45:00', 'Pre-booked')\n",
    "insertValuesIntoPrescriptions(connection, cursor, 1,1,1,1,6)\n",
    "insertValuesIntoPrescriptions(connection, cursor, 1,1,1,2,2)\n",
    "updateValuesInDrugs(connection, cursor, 1,'1',884)\n",
    "updateValuesInDrugs(connection, cursor, 2,'1',698)\n",
    "\n",
    "# Scenario 2\n",
    "# Patient 2 without the need for drug prescription\n",
    "insertValuesIntoPatients(connection, cursor, 'Penolope', 'Mary', 'Drake', '1995-12-20', 'Neville House, DH15Y8', '+4487245679872', 123455589, 'AD76133483', '0', 'ZA55610', '89723h712')\n",
    "insertValuesIntoCases(connection, cursor, 2,'Healthy','General check-up', '', '')\n",
    "insertValuesIntoAppointments(connection, cursor, 2,1,2, 'Reschedule meeting', '2021-12-27 10:15:00', '2021-12-27 10:45:00', 'Walk-in')\n",
    "\n",
    "# Scenario 3\n",
    "# Patient 1 with same case revists and gets assigned to a different doctor\n",
    "insertValuesIntoAppointments(connection, cursor, 1,3,1, 'In-prgress', '2021-12-30 12:15:00', '2021-12-30 13:45:00', 'Walk-in')\n",
    "\n",
    "# Scenario 4\n",
    "# Patient 2 comes back and has a new case created but is assigned the same doctor\n",
    "insertValuesIntoCases(connection, cursor, 2,'Healthy','Fever, motions and dehydration', 'Diarrhea', 'IV medication and saline')\n",
    "insertValuesIntoAppointments(connection, cursor, 2,1,3, 'In-prgress', '2022-01-02 12:15:00', '2022-01-02 12:15:00', 'Pre-booked')\n",
    "insertValuesIntoPrescriptions(connection, cursor, 2,4,3,1,10)\n",
    "insertValuesIntoPrescriptions(connection, cursor, 2,4,3,3,10)\n",
    "insertValuesIntoPrescriptions(connection, cursor, 2,4,3,4,10)\n",
    "updateValuesInDrugs(connection, cursor, 1,'1',874)\n",
    "updateValuesInDrugs(connection, cursor, 3,'1',990)\n",
    "updateValuesInDrugs(connection, cursor, 4,'1',990)"
   ]
  },
  {
   "cell_type": "markdown",
   "id": "d77a2f92",
   "metadata": {},
   "source": [
    "##### Closing the connection"
   ]
  },
  {
   "cell_type": "code",
   "execution_count": 8,
   "id": "d14032a8",
   "metadata": {},
   "outputs": [
    {
     "name": "stdout",
     "output_type": "stream",
     "text": [
      "Connection to the server has been closed.\n"
     ]
    }
   ],
   "source": [
    "# Closing the connection\n",
    "closeConnection(connection, cursor)"
   ]
  }
 ],
 "metadata": {
  "kernelspec": {
   "display_name": "Python 3",
   "language": "python",
   "name": "python3"
  },
  "language_info": {
   "codemirror_mode": {
    "name": "ipython",
    "version": 3
   },
   "file_extension": ".py",
   "mimetype": "text/x-python",
   "name": "python",
   "nbconvert_exporter": "python",
   "pygments_lexer": "ipython3",
   "version": "3.8.8"
  }
 },
 "nbformat": 4,
 "nbformat_minor": 5
}
